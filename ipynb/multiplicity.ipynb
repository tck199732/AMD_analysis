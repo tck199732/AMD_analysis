{
 "cells": [
  {
   "cell_type": "code",
   "execution_count": null,
   "metadata": {},
   "outputs": [],
   "source": [
    "import pyamd\n",
    "from pyamd.analysis import centrality\n",
    "from pyamd.utilities import root6, style\n",
    "from pyamd.e15190 import microball\n",
    "import inspect\n",
    "import numpy as np\n",
    "import matplotlib.pyplot as plt\n",
    "import matplotlib as mpl\n",
    "from matplotlib.colors import LogNorm\n",
    "style.set_matplotlib_style(mpl)"
   ]
  },
  {
   "cell_type": "code",
   "execution_count": null,
   "metadata": {},
   "outputs": [],
   "source": [
    "reaction= 'Ca48Ni64E140'\n",
    "skyrme = 'SkM'\n",
    "impact_parameter = (0.,10.)\n",
    "mode = '3'\n",
    "spectra = centrality.Multiplicity_ImpactParameter(\n",
    "            reaction=reaction, skyrme=skyrme, impact_parameter=impact_parameter, mode=mode)"
   ]
  },
  {
   "cell_type": "code",
   "execution_count": null,
   "metadata": {},
   "outputs": [],
   "source": [
    "fig, ax = plt.subplots()\n",
    "spectra.plot2d(ax, norm=LogNorm())\n",
    "ax.set(xlabel='Nc', ylabel='b [fm]')\n",
    "plt.tight_layout()"
   ]
  },
  {
   "cell_type": "code",
   "execution_count": null,
   "metadata": {},
   "outputs": [],
   "source": [
    "fig, ax = plt.subplots()\n",
    "spectra.plot_multiplicity(ax, fmt='ko')\n",
    "ax.set(xlabel='Nc', yscale='log')\n",
    "plt.tight_layout()"
   ]
  },
  {
   "cell_type": "code",
   "execution_count": null,
   "metadata": {},
   "outputs": [],
   "source": [
    "fig, ax = plt.subplots()\n",
    "spectra.plot_impact_parameter(ax, bins=20, fmt='ko')\n",
    "ax.set(xlabel='b [fm]', ylabel='normalized dM/db [fm-1]', yscale='log')\n",
    "plt.tight_layout()"
   ]
  },
  {
   "cell_type": "code",
   "execution_count": null,
   "metadata": {},
   "outputs": [],
   "source": [
    "fig, ax = plt.subplots()\n",
    "spectra.plot_dsigma_db(ax, unit='mb', fmt='ko')\n",
    "spectra.plot_fitted_dsigma_db(ax, unit='mb', fmt='r--')\n",
    "ax.set(xlabel='b [fm]', ylabel='dsigma/db [mb fm-1]')\n",
    "plt.tight_layout()"
   ]
  },
  {
   "cell_type": "code",
   "execution_count": null,
   "metadata": {},
   "outputs": [],
   "source": [
    "colors = plt.rcParams[\"axes.prop_cycle\"]()\n",
    "ranges = np.array([0., 1.5, 2.5, 3., 4., 5., 6., 7., 8., 9.])\n",
    "ranges = list(zip(ranges[:-1], ranges[1:]-0.01))\n",
    "fig, axes = plt.subplots(3, 3, figsize=(\n",
    "    8, 6), sharex=True, sharey=True)\n",
    "for range, ax in zip(ranges, axes.flatten()):\n",
    "\n",
    "    c = next(colors)[\"color\"]\n",
    "    spectra.plot_multiplicity(\n",
    "        ax, cut=range, label=f'b=[{range[0]:.1f}-{range[1]:.1f})', color=c)\n",
    "    spectra.plot_fitted_multiplicity(\n",
    "        ax, cut=range, label='gaus. fit', color=c, fmt='--')\n",
    "    ax.set(xlim=(-0.5, 25.5), ylim=(1e-6, 5e-1), yscale='log')\n",
    "    ax.legend()\n",
    "fig.supxlabel('Nc')\n",
    "plt.subplots_adjust(wspace=0, hspace=0)\n",
    "plt.tight_layout()\n"
   ]
  },
  {
   "cell_type": "code",
   "execution_count": null,
   "metadata": {},
   "outputs": [],
   "source": [
    "colors = plt.rcParams[\"axes.prop_cycle\"]()\n",
    "ranges = np.array([1, 2, 3, 4, 6, 8, 10, 12, 14, 25])\n",
    "ranges = list(zip(ranges[:-1], ranges[1:]-0.01))\n",
    "fig, axes = plt.subplots(3, 3, figsize=(\n",
    "    8, 6), sharex=True, sharey=True)\n",
    "for range, ax in zip(ranges, axes.flatten()):\n",
    "    c = next(colors)[\"color\"]\n",
    "    spectra.plot_impact_parameter(\n",
    "        ax, cut=range, label=f'Nc=[{range[0]:.0f}-{range[1]:.0f})', color=c, fmt='.')\n",
    "    spectra.plot_fitted_impact_parameter(\n",
    "        ax, cut=range, label='gaus. fit', color=c, fmt='--')\n",
    "    ax.set(xlim=(0., 10.), ylim=(1e-6, 5e-1), yscale='log')\n",
    "    ax.legend()\n",
    "fig.supxlabel('b [fm]')\n",
    "plt.tight_layout()\n"
   ]
  },
  {
   "cell_type": "code",
   "execution_count": null,
   "metadata": {},
   "outputs": [],
   "source": [
    "fig, ax = plt.subplots()\n",
    "spectra.plot_mapping(ax, fmt='r--', label='AMD')\n",
    "uball.plot_impact_parameter_mapping(\n",
    "    ax, path=f'{str(pyamd.PROJECT_DIR)}/database/microball/bimp_mapping/{self.reaction}.dat', fmt='k.', label=\"e15190\")\n",
    "ax.set(xlabel='Nc [fm]', ylabel='b [fm]')\n",
    "ax.legend()\n",
    "plt.tight_layout()\n"
   ]
  }
 ],
 "metadata": {
  "kernelspec": {
   "display_name": "Python 3.8.10",
   "language": "python",
   "name": "python3"
  },
  "language_info": {
   "codemirror_mode": {
    "name": "ipython",
    "version": 3
   },
   "file_extension": ".py",
   "mimetype": "text/x-python",
   "name": "python",
   "nbconvert_exporter": "python",
   "pygments_lexer": "ipython3",
   "version": "3.8.10"
  },
  "orig_nbformat": 4,
  "vscode": {
   "interpreter": {
    "hash": "3b54c96c8c6ac48ed913038fca78750983897b3062c151dc54b42651d84f5d5b"
   }
  }
 },
 "nbformat": 4,
 "nbformat_minor": 2
}
