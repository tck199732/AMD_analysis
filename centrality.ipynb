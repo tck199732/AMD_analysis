{
 "cells": [
  {
   "cell_type": "code",
   "execution_count": 3,
   "metadata": {},
   "outputs": [
    {
     "name": "stdout",
     "output_type": "stream",
     "text": [
      "Welcome to JupyROOT 6.26/06\n"
     ]
    },
    {
     "ename": "ModuleNotFoundError",
     "evalue": "No module named 'pyamd.e15190'",
     "output_type": "error",
     "traceback": [
      "\u001b[0;31m---------------------------------------------------------------------------\u001b[0m",
      "\u001b[0;31mModuleNotFoundError\u001b[0m                       Traceback (most recent call last)",
      "Cell \u001b[0;32mIn [3], line 8\u001b[0m\n\u001b[1;32m      5\u001b[0m \u001b[39mfrom\u001b[39;00m \u001b[39mmatplotlib\u001b[39;00m\u001b[39m.\u001b[39;00m\u001b[39mcolors\u001b[39;00m \u001b[39mimport\u001b[39;00m LogNorm\n\u001b[1;32m      7\u001b[0m \u001b[39mimport\u001b[39;00m \u001b[39mpyamd\u001b[39;00m\n\u001b[0;32m----> 8\u001b[0m \u001b[39mfrom\u001b[39;00m \u001b[39mpyamd\u001b[39;00m\u001b[39m.\u001b[39;00m\u001b[39manalysis\u001b[39;00m \u001b[39mimport\u001b[39;00m centrality\n\u001b[1;32m      9\u001b[0m \u001b[39mfrom\u001b[39;00m \u001b[39mpyamd\u001b[39;00m\u001b[39m.\u001b[39;00m\u001b[39mutilities\u001b[39;00m \u001b[39mimport\u001b[39;00m root6, style\n\u001b[1;32m     10\u001b[0m style\u001b[39m.\u001b[39mset_matplotlib_style(mpl)\n",
      "File \u001b[0;32m~/Desktop/amd_analysis/pyamd/analysis/centrality.py:16\u001b[0m\n\u001b[1;32m     14\u001b[0m \u001b[39mfrom\u001b[39;00m \u001b[39mpyamd\u001b[39;00m \u001b[39mimport\u001b[39;00m PROJECT_DIR\n\u001b[1;32m     15\u001b[0m \u001b[39mfrom\u001b[39;00m \u001b[39mpyamd\u001b[39;00m\u001b[39m.\u001b[39;00m\u001b[39mutilities\u001b[39;00m \u001b[39mimport\u001b[39;00m root6, helper, minuit\n\u001b[0;32m---> 16\u001b[0m \u001b[39mfrom\u001b[39;00m \u001b[39mpyamd\u001b[39;00m\u001b[39m.\u001b[39;00m\u001b[39me15190\u001b[39;00m \u001b[39mimport\u001b[39;00m e15190\n\u001b[1;32m     18\u001b[0m hist_reader \u001b[39m=\u001b[39m root6\u001b[39m.\u001b[39mHistogramReader()\n\u001b[1;32m     19\u001b[0m helper \u001b[39m=\u001b[39m helper\u001b[39m.\u001b[39mhelper()\n",
      "File \u001b[0;32m~/Desktop/amd_analysis/env_amd/lib/python3.8/site-packages/ROOT/_facade.py:153\u001b[0m, in \u001b[0;36mROOTFacade._set_import_hook.<locals>._importhook\u001b[0;34m(name, *args, **kwds)\u001b[0m\n\u001b[1;32m    151\u001b[0m     \u001b[39mexcept\u001b[39;00m \u001b[39mException\u001b[39;00m:\n\u001b[1;32m    152\u001b[0m         \u001b[39mpass\u001b[39;00m\n\u001b[0;32m--> 153\u001b[0m \u001b[39mreturn\u001b[39;00m _orig_ihook(name, \u001b[39m*\u001b[39;49margs, \u001b[39m*\u001b[39;49m\u001b[39m*\u001b[39;49mkwds)\n",
      "\u001b[0;31mModuleNotFoundError\u001b[0m: No module named 'pyamd.e15190'"
     ]
    }
   ],
   "source": [
    "import inspect\n",
    "import numpy as np\n",
    "import matplotlib.pyplot as plt\n",
    "import matplotlib as mpl\n",
    "from matplotlib.colors import LogNorm\n",
    "\n",
    "import pyamd\n",
    "from pyamd.analysis import centrality\n",
    "from pyamd.utilities import root6, style\n",
    "style.set_matplotlib_style(mpl)\n"
   ]
  },
  {
   "cell_type": "code",
   "execution_count": null,
   "metadata": {},
   "outputs": [],
   "source": []
  },
  {
   "cell_type": "code",
   "execution_count": null,
   "metadata": {},
   "outputs": [],
   "source": []
  }
 ],
 "metadata": {
  "kernelspec": {
   "display_name": "Python 3.8.10 (conda)",
   "language": "python",
   "name": "python3"
  },
  "language_info": {
   "codemirror_mode": {
    "name": "ipython",
    "version": 3
   },
   "file_extension": ".py",
   "mimetype": "text/x-python",
   "name": "python",
   "nbconvert_exporter": "python",
   "pygments_lexer": "ipython3",
   "version": "3.8.10"
  },
  "orig_nbformat": 4,
  "vscode": {
   "interpreter": {
    "hash": "3b54c96c8c6ac48ed913038fca78750983897b3062c151dc54b42651d84f5d5b"
   }
  }
 },
 "nbformat": 4,
 "nbformat_minor": 2
}
